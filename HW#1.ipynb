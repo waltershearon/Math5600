{
 "cells": [
  {
   "cell_type": "markdown",
   "metadata": {},
   "source": [
    "# Math 5600 Homework #1\n",
    "# Walter Shearon and  Aaron Langford"
   ]
  },
  {
   "cell_type": "code",
   "execution_count": 67,
   "metadata": {
    "collapsed": true
   },
   "outputs": [],
   "source": [
    "import numpy as np\n",
    "from math import cos,sin,sqrt,exp\n",
    "import matplotlib.pyplot as plt"
   ]
  },
  {
   "cell_type": "markdown",
   "metadata": {},
   "source": [
    "# Simple Programming Exercises\n",
    "## 1.\n",
    "### (a)"
   ]
  },
  {
   "cell_type": "code",
   "execution_count": 68,
   "metadata": {
    "collapsed": true
   },
   "outputs": [],
   "source": [
    "def function(x):\n",
    "    output = (x**2)*(exp(-2*x))+((cos(3*x))/(sqrt(1+x)))\n",
    "    return output"
   ]
  },
  {
   "cell_type": "code",
   "execution_count": 69,
   "metadata": {},
   "outputs": [
    {
     "data": {
      "text/plain": [
       "array([ 1.        , -0.56469512,  0.62761713, -0.43325636,  0.38275037,\n",
       "       -0.30900629,  0.24979745, -0.19361079,  0.1414002 ])"
      ]
     },
     "execution_count": 69,
     "metadata": {},
     "output_type": "execute_result"
    }
   ],
   "source": [
    "vfunc = np.vectorize(function)\n",
    "vfunc([0,1,2,3,4,5,6,7,8])"
   ]
  },
  {
   "cell_type": "markdown",
   "metadata": {},
   "source": [
    "### (b)"
   ]
  },
  {
   "cell_type": "code",
   "execution_count": 70,
   "metadata": {},
   "outputs": [
    {
     "data": {
      "image/png": "[encoded data removed]",
      "text/plain": [
       "<matplotlib.figure.Figure at 0x11c997588>"
      ]
     },
     "metadata": {},
     "output_type": "display_data"
    }
   ],
   "source": [
    "interval = np.linspace(10,50,1000)\n",
    "out=vfunc(interval)\n",
    "plt.plot(interval,out)\n",
    "plt.show()"
   ]
  },
  {
   "cell_type": "markdown",
   "metadata": {},
   "source": [
    "## 2."
   ]
  },
  {
   "cell_type": "code",
   "execution_count": 71,
   "metadata": {},
   "outputs": [
    {
     "name": "stdout",
     "output_type": "stream",
     "text": [
      "5.477225575051661\n",
      "3.1622776601683795\n"
     ]
    }
   ],
   "source": [
    "def norm(x):\n",
    "    squares=[i**2 for i in x]\n",
    "    return sqrt(sum(squares))\n",
    "print(norm([1,2,3,4]))\n",
    "print(norm([-1,-2,0,1,2]))"
   ]
  },
  {
   "cell_type": "markdown",
   "metadata": {},
   "source": [
    "## 3.\n",
    "### (a)"
   ]
  },
  {
   "cell_type": "code",
   "execution_count": 72,
   "metadata": {},
   "outputs": [
    {
     "name": "stdout",
     "output_type": "stream",
     "text": [
      "must be positive\n",
      "factorial of 0 = 1\n",
      "factorial of 4 = 24\n",
      "factorial of 8 = 40320\n"
     ]
    }
   ],
   "source": [
    "def for_factorial(x):\n",
    "    \n",
    "    factorial = 1\n",
    "    if x < 0:\n",
    "        print(\"must be positive\")\n",
    "    elif x == 0:\n",
    "        print(\"factorial of 0 = 1\")\n",
    "    else:\n",
    "        for i in range(1,x + 1):\n",
    "            factorial = factorial*i\n",
    "        print('factorial of ' + str(x) + ' = ' + str(factorial))\n",
    "(for_factorial(-8))\n",
    "(for_factorial(0))\n",
    "(for_factorial(4))\n",
    "(for_factorial(8))"
   ]
  },
  {
   "cell_type": "markdown",
   "metadata": {},
   "source": [
    "### (b)"
   ]
  },
  {
   "cell_type": "code",
   "execution_count": 73,
   "metadata": {},
   "outputs": [
    {
     "name": "stdout",
     "output_type": "stream",
     "text": [
      "factorial = 24\n",
      "factorial = 5040\n",
      "factorial = 1\n"
     ]
    }
   ],
   "source": [
    "def while_factorial(n):\n",
    "    num = 1\n",
    "    while n >= 1:\n",
    "        num = num * n\n",
    "        n = n - 1\n",
    "    print('factorial = '+ str(num))\n",
    "(while_factorial(4))\n",
    "(while_factorial(7))\n",
    "(while_factorial(0))"
   ]
  },
  {
   "cell_type": "markdown",
   "metadata": {},
   "source": [
    "## 4.\n",
    "### (a)"
   ]
  },
  {
   "cell_type": "code",
   "execution_count": 74,
   "metadata": {},
   "outputs": [
    {
     "name": "stdout",
     "output_type": "stream",
     "text": [
      "[1, 1, 2, 3, 5, 8, 13, 21, 34, 55, 89, 144, 233, 377, 610]\n"
     ]
    }
   ],
   "source": [
    "def fiblist(n, sequence):\n",
    "    length = len(sequence)\n",
    "    if length == n:\n",
    "        return\n",
    "    if length == 0 or length == 1:       \n",
    "        sequence.append(1)\n",
    "    else:\n",
    "        sequence.append(sequence[length-1]+sequence[length-2])\n",
    "    fiblist(n, sequence)    \n",
    "sequence = []\n",
    "fiblist(15, sequence)\n",
    "print(sequence) "
   ]
  },
  {
   "cell_type": "markdown",
   "metadata": {},
   "source": [
    "### (b)"
   ]
  },
  {
   "cell_type": "code",
   "execution_count": 75,
   "metadata": {
    "collapsed": true
   },
   "outputs": [],
   "source": [
    "def fib(n):\n",
    "    if n == 0: \n",
    "        return 0\n",
    "    elif n == 1: \n",
    "        return 1\n",
    "    else: \n",
    "        return fib(n-1)+fib(n-2)\n",
    "gold=(1+sqrt(5))/2\n",
    "def approx_gold(e):\n",
    "    n=2\n",
    "    while abs(((fib(n)/(fib(n-1))))-gold)>e:\n",
    "        n=n+1\n",
    "    return ((fib(n)/(fib(n-1))))"
   ]
  },
  {
   "cell_type": "code",
   "execution_count": 76,
   "metadata": {},
   "outputs": [
    {
     "name": "stdout",
     "output_type": "stream",
     "text": [
      "1.6666666666666667\n",
      "1.6179775280898876\n",
      "1.6180339886704431\n"
     ]
    }
   ],
   "source": [
    "print(approx_gold(.1))\n",
    "print(approx_gold(.0001))\n",
    "print(approx_gold(.0000000001))"
   ]
  },
  {
   "cell_type": "markdown",
   "metadata": {},
   "source": [
    "## 5."
   ]
  },
  {
   "cell_type": "code",
   "execution_count": 77,
   "metadata": {},
   "outputs": [
    {
     "name": "stdout",
     "output_type": "stream",
     "text": [
      "[14, 29, 38]\n",
      "size error\n",
      "None\n",
      "[1, 3, 2]\n"
     ]
    }
   ],
   "source": [
    "B=[1,2,3]\n",
    "I=[[1,0,0],[0,0,1],[0,1,0]]\n",
    "C=[[1,2,3],[3,4,6],[5,6,7]]\n",
    "D=[1,2,3,4]\n",
    "def mat_vect_using_numpy(a,b):\n",
    "    if len(a) != len(b):\n",
    "        print(\"size error\")\n",
    "    else:\n",
    "        return list(np.matmul(a,b))\n",
    "print(mat_vect_using_numpy(C,B))\n",
    "print(mat_vect_using_numpy(C,D))\n",
    "print(mat_vect_using_numpy(I,B))"
   ]
  },
  {
   "cell_type": "code",
   "execution_count": 78,
   "metadata": {},
   "outputs": [
    {
     "name": "stdout",
     "output_type": "stream",
     "text": [
      "[14, 29, 38]\n",
      "size error\n",
      "None\n",
      "[1, 3, 2]\n"
     ]
    }
   ],
   "source": [
    "def mat_vect_using_fors(A,y):\n",
    "    k=A\n",
    "    if len(A)==len(y):\n",
    "        for i in range(len(A)):\n",
    "            for j in range(len(y)):\n",
    "                k[i][j]=(A[i][j]*y[j])\n",
    "        vector = [sum(i) for i in k]\n",
    "        return vector\n",
    "    elif len(A)!=len(y):\n",
    "        print('size error')\n",
    "print(mat_vect_using_fors(C,B))\n",
    "print(mat_vect_using_fors(C,D))\n",
    "print(mat_vect_using_fors(I,B))"
   ]
  },
  {
   "cell_type": "markdown",
   "metadata": {},
   "source": [
    "# Root Finding\n",
    "## 1. Division without division\n",
    "### (a)"
   ]
  },
  {
   "cell_type": "code",
   "execution_count": 79,
   "metadata": {
    "collapsed": true
   },
   "outputs": [],
   "source": [
    "## approximates a / b with error of at most epsilon\n",
    "## x_not must be positive and less than 2 / b\n",
    "## epsilon must be less than x_not\n",
    "def approx_div(a, b, x_not, epsilon):\n",
    "    if x_not <= 0 or b * x_not >= 2:\n",
    "        raise ValueError(\"x_not must be positive and less than 2 / b\")\n",
    "    if epsilon >= x_not:\n",
    "        raise ValueError(\"x_not must be greater than epsilon\")\n",
    "    ## approximate 1/b by approximating the root of b - 1/x\n",
    "    x = x_not\n",
    "    xn = x * (2 - (b * x))\n",
    "    while abs(x - xn) >= abs(epsilon):\n",
    "        x = xn\n",
    "        xn = x * (2 - (b * x))\n",
    "        \n",
    "    return xn * a\n",
    "    "
   ]
  },
  {
   "cell_type": "code",
   "execution_count": 80,
   "metadata": {},
   "outputs": [
    {
     "data": {
      "text/plain": [
       "0.5"
      ]
     },
     "execution_count": 80,
     "metadata": {},
     "output_type": "execute_result"
    }
   ],
   "source": [
    "approx_div(1.0, 2.0, 2.168404344971009e-18, 2.168404344971009e-19)"
   ]
  },
  {
   "cell_type": "markdown",
   "metadata": {},
   "source": [
    "### (b)"
   ]
  },
  {
   "cell_type": "code",
   "execution_count": 81,
   "metadata": {
    "collapsed": true
   },
   "outputs": [],
   "source": [
    "def newton(f, df, x_not, err, iter_max):\n",
    "    i = 1\n",
    "    x = 0\n",
    "    x_prev = x_not\n",
    "    while abs(x_prev - x) > err and i < iter_max:\n",
    "        denom = df(x_not)\n",
    "        if denom == 0:\n",
    "            return (0, False, 'denom was 0 😭')\n",
    "        \n",
    "        x = x_not - approx_div(f(x_not), denom, 2.168404344971009e-18, 2.168404344971009e-19)\n",
    "    \n",
    "        i += 1\n",
    "        x_prev = x_not\n",
    "        x_not = x\n",
    "        \n",
    "    if i >= iter_max:\n",
    "        return (0, False, 'exceeded max iterations 😭')\n",
    "    else:\n",
    "        return (x, True, '')\n",
    "    \n",
    "    "
   ]
  },
  {
   "cell_type": "code",
   "execution_count": 82,
   "metadata": {},
   "outputs": [
    {
     "data": {
      "text/plain": [
       "(-1.7230192603557493, True, '')"
      ]
     },
     "execution_count": 82,
     "metadata": {},
     "output_type": "execute_result"
    }
   ],
   "source": [
    "f = lambda x: (x**5) - (x**4) + 24\n",
    "df = lambda x: 5*(x**4) - 4*(x**3)\n",
    "newton(f, df, -1.5, 0.00000000000000001, 1000)"
   ]
  },
  {
   "cell_type": "markdown",
   "metadata": {},
   "source": [
    "## 2. Convergence of Newton's Method\n",
    "### (a)\n",
    "Prove this function only has 1 root\n",
    "$$f(x) = 2x - cos(x)$$\n",
    "* Differentiating yields\n",
    "$f'(x) = 2 + sin(x)$\n",
    "* Given that $f'(x) > 0$ for all $x$, $f(x)$ is strictly monotonically increasing.\n",
    "* A function that is strictly monotonically increasing can only have 1 root.\n",
    "\n",
    "### (b)\n",
    "Let $g(x)= x - \\frac{f(x)}{f'(x)}$ then finding a root for $f(x)=0$ using Newton's Method is equivalent to finding the fixed point of $g(x)$\n",
    "<br />\n",
    "Considering the fixed point iteration of g(x) we have\n",
    "<br />\n",
    "$$g'(x) = 1 - \\frac{f'(x)f'(x)-f(x)f''(x)}{(f'(x))^2} = \\frac{f(x)f''(x)}{(f'(x))^2}$$\n",
    "<br />\n",
    "Now $f(\\alpha)=0 \\rightarrow g'(\\alpha)=0$ \n",
    "<br />\n",
    "Since $g(x)$ is continuous, it is possible to find a $\\gamma>0$ so that $ \\left| g'(x) \\right| < 1 $ for all $x \\in (\\alpha-\\gamma,\\alpha+\\gamma)$ \n",
    "<br />\n",
    "Therefore, a sufficient condition for the initial guess $x_0$ to give a convergent sequence is that $x_0 \\in (\\alpha-\\gamma,\\alpha+\\gamma)$ with $\\gamma$ chosen so that \n",
    "<br />\n",
    "$$ \\frac{\\left|f(x)f''(x)\\right|}{\\left|f'(x)\\right|^2}<1$$ for all $x_0 \\in (\\alpha-\\gamma,\\alpha+\\gamma)$\n",
    "<br />\n",
    "<br />\n",
    "$\\therefore$ If $ x_0 \\in I=(\\alpha-\\gamma,\\alpha+\\gamma)$ then $ x_0 $\n",
    "will converge to $\\alpha$"
   ]
  },
  {
   "cell_type": "markdown",
   "metadata": {},
   "source": [
    "## 3. From Divergence to Convergence"
   ]
  },
  {
   "cell_type": "markdown",
   "metadata": {},
   "source": [
    "$h(\\alpha)=\\alpha$ is equivalent to $g(\\alpha)=\\alpha$ if $c\\neq0$ since\n",
    "<br />\n",
    "$$h(\\alpha)=(1-c)\\alpha+cg(\\alpha)=\\alpha$$\n",
    "<br />\n",
    "$$         \\rightarrow\\alpha - c\\alpha + cg(\\alpha)=\\alpha $$\n",
    "<br />\n",
    "$$         \\rightarrow c(g(\\alpha)-\\alpha)=0 $$\n",
    "<br />\n",
    "$$         \\therefore g(\\alpha)=\\alpha $$\n",
    "<br />\n",
    "To find all possible values of c for which $y_n=h(y_{n-1})$ converges to $\\alpha$, a sufficent condition is to find all c such that $\\left | {h}'(\\alpha)  \\right |<1$\n",
    "<br />\n",
    "<br />\n",
    "$$ h'(x) = 1 - c + cg'(x)$$\n",
    "<br />\n",
    "so we need \n",
    "<br />\n",
    "$$ -1 < (1 - c + cg'(x)) < 1$$\n",
    "<br />\n",
    "$$ \\rightarrow  -2 < c(g'(x)-1) < 0$$\n",
    "<br />\n",
    "now \n",
    "<br />\n",
    "$g'(x)>1$\n",
    "<br />\n",
    "$\\therefore$ if $y_n=h(y_{n-1})$ converges to $\\alpha$ then $-\\infty<c<0$\n",
    "<br />\n",
    "<br />\n",
    "We can find c such that order of convergence is at least 2 using the following theorem:\n",
    "<br />\n",
    "<br />\n",
    "$\\textit{Let g $\\in C^p$ with $p\\geq 0$ then if $\\alpha$ is a fixed point and}$\n",
    "<br />\n",
    "$$g'(\\alpha)=g''(\\alpha)=...=g^{p-1}=0$$\n",
    "<br />\n",
    "$\\textit{but $g^p(\\alpha) \\neq 0$ then the order of convergence of g is p.}$\n",
    "<br />\n",
    "$\\square$\n",
    "<br />\n",
    "So a sufficent condition for order of convergence $\\geq 2$ is that $h'(\\alpha) = 0$ \n",
    "<br />\n",
    "now,\n",
    "<br />\n",
    "$$ h'(\\alpha) = 1 - c + cg'(\\alpha) = 0$$\n",
    "<br />\n",
    "$$ \\rightarrow c = 1/(1-g'(\\alpha))$$\n",
    "<br />\n",
    "given,\n",
    "$$ {g}'(x)>1$$\n",
    "this holds true for\n",
    "<br />\n",
    "$$-\\infty<c<0$$\n",
    "$\\therefore$ for c in $(-\\infty,0)$ we have at least quadratic convergence"
   ]
  },
  {
   "cell_type": "markdown",
   "metadata": {},
   "source": [
    "## 4. A Cubically Convergent Method\n",
    "### (a)\n",
    "\n",
    "We can rewrite the equation as<br />\n",
    "<br />\n",
    "$$g(x)=f(x)h_1(x)+f^2(x)h_2(x)$$\n",
    "<br />\n",
    "with\n",
    "<br />\n",
    "$$ h_1(x)= \\frac{-1}{f'( x )} h_2 (x) =  \\frac{-1}{2} \\frac{f'( x )}{(f''( x ))^3} $$\n",
    "<br />\n",
    "Differentiating three times (using wolfram alpha to simplify) and evaluating at root $\\alpha$ we get,\n",
    "<br />\n",
    "<br />$$g'(\\alpha) = 1 + h_1(\\alpha) f'(\\alpha) = 0$$\n",
    "<br />\n",
    "$$g''(\\alpha) = 2h_2(\\alpha)[f'(\\alpha)]^2 + \\frac{f''(\\alpha)}{f'(\\alpha)} = 0$$\n",
    "<br />\n",
    "and\n",
    "<br />\n",
    "$$g'''(\\alpha) = \\frac{3[f''(\\alpha)]^2}{[f'(\\alpha)]^2} - \\frac{f'''(\\alpha)}{f'(\\alpha)}$$\n",
    "<br />\n",
    "since $g(x) \\in C^4$ , $g'''(\\alpha) \\neq 0$, and\n",
    "<br />\n",
    "$$\\lim_{n \\to \\infty}\\frac{\\left | \\alpha-\\alpha_{n+1} \\right |}{\\left | \\alpha-\\alpha_n \\right |^3}=\\frac{\\left | g'''(\\alpha) \\right |}{3!}= \\left | \\frac{1}{2}\\bigg(\\frac{f''(\\alpha)}{f'(\\alpha)}\\bigg)^2 -\\frac{1}{6}\\frac{f'''(\\alpha)}{f'(\\alpha)}\\right |$$\n",
    "\n",
    "\n",
    "\n",
    "$\\rightarrow$ $x_n = g(x_{n-1})$ converges with order at least 3 (cubic)\n"
   ]
  },
  {
   "cell_type": "markdown",
   "metadata": {},
   "source": [
    "### (b)"
   ]
  },
  {
   "cell_type": "code",
   "execution_count": 83,
   "metadata": {
    "collapsed": true
   },
   "outputs": [],
   "source": [
    "def cube_approx(f,df,d2f,guess,error):\n",
    "    if guess==0:\n",
    "        raise ValueError('divide by zero') \n",
    "    else:\n",
    "        g = lambda x_prev: x_prev - f(x_prev)/df(x_prev) - ((1/2)*((f(x_prev))**2)*(d2f(x_prev)))/((df(x_prev)**3))    \n",
    "        iterations=1\n",
    "        x=guess\n",
    "        x_n=g(x)\n",
    "        while abs(f(x_n)-f(x)) >= error:\n",
    "            x=x_n\n",
    "            x_n = g(x_n)\n",
    "            iterations+=1\n",
    "    return (x,iterations)"
   ]
  },
  {
   "cell_type": "code",
   "execution_count": 84,
   "metadata": {},
   "outputs": [
    {
     "name": "stdout",
     "output_type": "stream",
     "text": [
      "(2.23606797749979, 5)\n"
     ]
    }
   ],
   "source": [
    "f = lambda x: (x**2)-5\n",
    "df = lambda x: 2*x\n",
    "d2f = lambda x: 2\n",
    "print(cube_approx(f,df,d2f,6,.0000001))"
   ]
  },
  {
   "cell_type": "code",
   "execution_count": 85,
   "metadata": {},
   "outputs": [
    {
     "data": {
      "text/plain": [
       "7.8533935546875"
      ]
     },
     "execution_count": 85,
     "metadata": {},
     "output_type": "execute_result"
    }
   ],
   "source": [
    "###not part of HW\n",
    "def f(x):\n",
    "    return(exp(x)*cos(x))\n",
    "def bisection(a,b,tol):\n",
    "    c = (a+b)/2.0\n",
    "    while (b-a)/2.0 > tol:\n",
    "        if f(c) == 0.0:\n",
    "            return c\n",
    "        elif f(a)*f(c) < 0.0:\n",
    "            b = c\n",
    "        else :\n",
    "            a = c\n",
    "        c = (a+b)/2.0\n",
    "\n",
    "    return c\n",
    "bisection(0,10,.001)"
   ]
  },
  {
   "cell_type": "markdown",
   "metadata": {},
   "source": [
    "## 5. Approximating Pi"
   ]
  },
  {
   "cell_type": "markdown",
   "metadata": {},
   "source": [
    "## a.\n",
    "Approximating pi using single point iteration can be done setting \n",
    "$$g(x)=x+\\sin(x)$$\n",
    "since $\\pi$ satisfies\n",
    "$$x-x+\\sin(x)=0$$\n",
    "## b.\n",
    "Any guess in the open interval $(0,2\\pi)$ would work but for practical purposes without knowing $\\pi$ ahead of time $(0,6)$ is sufficent\n",
    "## c.\n",
    "It can be shown that,\n",
    "$$\\lim_{n \\to \\infty}\\frac{\\left | \\alpha-\\alpha_{n+1} \\right |}{\\left | \\alpha-\\alpha_n \\right |^3}=\\frac{\\left | g'''(\\alpha) \\right |}{3!}$$\n",
    "\n",
    "\n",
    "\n",
    "$\\rightarrow$ $x_n = g(x_{n-1})$ converges with order at least 3 (cubic)"
   ]
  },
  {
   "cell_type": "code",
   "execution_count": 86,
   "metadata": {},
   "outputs": [],
   "source": [
    "def approx_pi(guess,error):\n",
    "        g = lambda guess: guess+sin(guess)    \n",
    "        iterations=1\n",
    "        x=guess\n",
    "        x_n=g(x)\n",
    "        while abs(g(x_n)-g(x)) >= error:\n",
    "            x=x_n\n",
    "            x_n = g(x_n)\n",
    "            iterations+=1\n",
    "        return (x,iterations)"
   ]
  },
  {
   "cell_type": "code",
   "execution_count": 87,
   "metadata": {},
   "outputs": [
    {
     "name": "stdout",
     "output_type": "stream",
     "text": [
      "(3.1415926556825062, 7)\n",
      "(3.1411200080598674, 2)\n",
      "(0, 1)\n",
      "(3.1415926535897927, 9)\n"
     ]
    }
   ],
   "source": [
    "print(approx_pi(6,.0000000000000001))\n",
    "print(approx_pi(3,.0001))\n",
    "print(approx_pi(0,.0000000000000001))\n",
    "print(approx_pi(0.1,.0000000000000001))"
   ]
  }
 ],
 "metadata": {
  "kernelspec": {
   "display_name": "Python 3",
   "language": "python",
   "name": "python3"
  },
  "language_info": {
   "codemirror_mode": {
    "name": "ipython",
    "version": 3
   },
   "file_extension": ".py",
   "mimetype": "text/x-python",
   "name": "python",
   "nbconvert_exporter": "python",
   "pygments_lexer": "ipython3",
   "version": "3.6.3"
  }
 },
 "nbformat": 4,
 "nbformat_minor": 2
}

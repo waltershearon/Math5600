{
 "cells": [
  {
   "cell_type": "code",
   "execution_count": 1,
   "metadata": {},
   "outputs": [],
   "source": [
    "import numpy as np\n",
    "from math import cos,sqrt,exp\n",
    "import matplotlib.pyplot as plt"
   ]
  },
  {
   "cell_type": "markdown",
   "metadata": {},
   "source": [
    "# Simple Programming Exercises\n",
    "## 1.\n",
    "### (a)"
   ]
  },
  {
   "cell_type": "code",
   "execution_count": 2,
   "metadata": {},
   "outputs": [],
   "source": [
    "def function(x):\n",
    "    output = (x**2)*(exp(-2*x))+((cos(3*x))/(sqrt(1+x)))\n",
    "    return output"
   ]
  },
  {
   "cell_type": "code",
   "execution_count": 3,
   "metadata": {},
   "outputs": [
    {
     "data": {
      "text/plain": [
       "array([ 1.        , -0.56469512,  0.62761713, -0.43325636,  0.38275037,\n",
       "       -0.30900629,  0.24979745, -0.19361079,  0.1414002 ])"
      ]
     },
     "execution_count": 3,
     "metadata": {},
     "output_type": "execute_result"
    }
   ],
   "source": [
    "vfunc = np.vectorize(function)\n",
    "vfunc([0,1,2,3,4,5,6,7,8])"
   ]
  },
  {
   "cell_type": "markdown",
   "metadata": {},
   "source": [
    "### (b)"
   ]
  },
  {
   "cell_type": "code",
   "execution_count": 4,
   "metadata": {},
   "outputs": [
    {
     "data": {
      "image/png": "[encoded data removed]",
      "text/plain": [
       "<Figure size 432x288 with 1 Axes>"
      ]
     },
     "metadata": {},
     "output_type": "display_data"
    }
   ],
   "source": [
    "interval = np.linspace(10,50,1000)\n",
    "out=vfunc(interval)\n",
    "plt.plot(interval,out)\n",
    "plt.show()"
   ]
  },
  {
   "cell_type": "markdown",
   "metadata": {},
   "source": [
    "## 2."
   ]
  },
  {
   "cell_type": "code",
   "execution_count": 5,
   "metadata": {},
   "outputs": [
    {
     "name": "stdout",
     "output_type": "stream",
     "text": [
      "5.477225575051661\n",
      "3.1622776601683795\n"
     ]
    }
   ],
   "source": [
    "def norm(x):\n",
    "    squares=[i**2 for i in x]\n",
    "    return sqrt(sum(squares))\n",
    "print(norm([1,2,3,4]))\n",
    "print(norm([-1,-2,0,1,2]))"
   ]
  },
  {
   "cell_type": "markdown",
   "metadata": {},
   "source": [
    "## 3.\n",
    "### (a)"
   ]
  },
  {
   "cell_type": "code",
   "execution_count": 6,
   "metadata": {},
   "outputs": [
    {
     "name": "stdout",
     "output_type": "stream",
     "text": [
      "must be positive\n",
      "factorial of 0 = 1\n",
      "factorial of 4 = 24\n",
      "factorial of 8 = 40320\n"
     ]
    }
   ],
   "source": [
    "def for_factorial(x):\n",
    "    \n",
    "    factorial = 1\n",
    "    if x < 0:\n",
    "        print(\"must be positive\")\n",
    "    elif x == 0:\n",
    "        print(\"factorial of 0 = 1\")\n",
    "    else:\n",
    "        for i in range(1,x + 1):\n",
    "            factorial = factorial*i\n",
    "        print('factorial of ' + str(x) + ' = ' + str(factorial))\n",
    "(for_factorial(-8))\n",
    "(for_factorial(0))\n",
    "(for_factorial(4))\n",
    "(for_factorial(8))"
   ]
  },
  {
   "cell_type": "markdown",
   "metadata": {},
   "source": [
    "### (b)"
   ]
  },
  {
   "cell_type": "code",
   "execution_count": 7,
   "metadata": {},
   "outputs": [
    {
     "name": "stdout",
     "output_type": "stream",
     "text": [
      "factorial = 24\n",
      "factorial = 5040\n",
      "factorial = 1\n"
     ]
    }
   ],
   "source": [
    "def while_factorial(n):\n",
    "    num = 1\n",
    "    while n >= 1:\n",
    "        num = num * n\n",
    "        n = n - 1\n",
    "    print('factorial = '+ str(num))\n",
    "(while_factorial(4))\n",
    "(while_factorial(7))\n",
    "(while_factorial(0))"
   ]
  },
  {
   "cell_type": "markdown",
   "metadata": {},
   "source": [
    "## 4.\n",
    "### (a)"
   ]
  },
  {
   "cell_type": "code",
   "execution_count": 8,
   "metadata": {},
   "outputs": [
    {
     "name": "stdout",
     "output_type": "stream",
     "text": [
      "[1, 1, 2, 3, 5, 8, 13, 21, 34, 55, 89, 144, 233, 377, 610]\n"
     ]
    }
   ],
   "source": [
    "def fiblist(n, sequence):\n",
    "    length = len(sequence)\n",
    "    if length == n:\n",
    "        return\n",
    "    if length == 0 or length == 1:       \n",
    "        sequence.append(1)\n",
    "    else:\n",
    "        sequence.append(sequence[length-1]+sequence[length-2])\n",
    "    fiblist(n, sequence)    \n",
    "sequence = []\n",
    "fiblist(15, sequence)\n",
    "print(sequence) "
   ]
  },
  {
   "cell_type": "markdown",
   "metadata": {},
   "source": [
    "### (b)"
   ]
  },
  {
   "cell_type": "code",
   "execution_count": 9,
   "metadata": {},
   "outputs": [],
   "source": [
    "def fib(n):\n",
    "    if n == 0: \n",
    "        return 0\n",
    "    elif n == 1: \n",
    "        return 1\n",
    "    else: \n",
    "        return fib(n-1)+fib(n-2)\n",
    "gold=(1+sqrt(5))/2\n",
    "def approx_gold(e):\n",
    "    n=2\n",
    "    while abs(((fib(n)/(fib(n-1))))-gold)>e:\n",
    "        n=n+1\n",
    "    return ((fib(n)/(fib(n-1))))"
   ]
  },
  {
   "cell_type": "code",
   "execution_count": 10,
   "metadata": {},
   "outputs": [
    {
     "name": "stdout",
     "output_type": "stream",
     "text": [
      "1.6666666666666667\n",
      "1.6179775280898876\n",
      "1.6180339886704431\n"
     ]
    }
   ],
   "source": [
    "print(approx_gold(.1))\n",
    "print(approx_gold(.0001))\n",
    "print(approx_gold(.0000000001))"
   ]
  },
  {
   "cell_type": "markdown",
   "metadata": {},
   "source": [
    "## 5."
   ]
  },
  {
   "cell_type": "code",
   "execution_count": 11,
   "metadata": {},
   "outputs": [
    {
     "name": "stdout",
     "output_type": "stream",
     "text": [
      "[14, 29, 38]\n",
      "size error\n",
      "None\n",
      "[1, 3, 2]\n"
     ]
    }
   ],
   "source": [
    "B=[1,2,3]\n",
    "I=[[1,0,0],[0,0,1],[0,1,0]]\n",
    "C=[[1,2,3],[3,4,6],[5,6,7]]\n",
    "D=[1,2,3,4]\n",
    "def mat_vect_using_numpy(a,b):\n",
    "    if len(a) != len(b):\n",
    "        print(\"size error\")\n",
    "    else:\n",
    "        return list(np.matmul(a,b))\n",
    "print(mat_vect_using_numpy(C,B))\n",
    "print(mat_vect_using_numpy(C,D))\n",
    "print(mat_vect_using_numpy(I,B))"
   ]
  },
  {
   "cell_type": "code",
   "execution_count": 12,
   "metadata": {},
   "outputs": [
    {
     "name": "stdout",
     "output_type": "stream",
     "text": [
      "[14, 29, 38]\n",
      "size error\n",
      "None\n",
      "[1, 3, 2]\n"
     ]
    }
   ],
   "source": [
    "def mat_vect_using_fors(A,y):\n",
    "    k=A\n",
    "    if len(A)==len(y):\n",
    "        for i in range(len(A)):\n",
    "            for j in range(len(y)):\n",
    "                k[i][j]=(A[i][j]*y[j])\n",
    "        vector = [sum(i) for i in k]\n",
    "        return vector\n",
    "    elif len(A)!=len(y):\n",
    "        print('size error')\n",
    "print(mat_vect_using_fors(C,B))\n",
    "print(mat_vect_using_fors(C,D))\n",
    "print(mat_vect_using_fors(I,B))"
   ]
  },
  {
   "cell_type": "markdown",
   "metadata": {},
   "source": [
    "# Root Finding\n",
    "## 1. Division without division"
   ]
  },
  {
   "cell_type": "code",
   "execution_count": 13,
   "metadata": {},
   "outputs": [
    {
     "data": {
      "text/plain": [
       "7.8533935546875"
      ]
     },
     "execution_count": 13,
     "metadata": {},
     "output_type": "execute_result"
    }
   ],
   "source": [
    "def f(x):\n",
    "    return(exp(x)*cos(x))\n",
    "def bisection(a,b,tol):\n",
    "    c = (a+b)/2.0\n",
    "    while (b-a)/2.0 > tol:\n",
    "        if f(c) == 0.0:\n",
    "            return c\n",
    "        elif f(a)*f(c) < 0.0:\n",
    "            b = c\n",
    "        else :\n",
    "            a = c\n",
    "        c = (a+b)/2.0\n",
    "\n",
    "    return c\n",
    "bisection(0,10,.001)"
   ]
  },
  {
   "cell_type": "code",
   "execution_count": 20,
   "metadata": {},
   "outputs": [],
   "source": [
    "## approximates a / b with error of at most epsilon\n",
    "## x_not must be positive and less than 2 / b\n",
    "## epsilon must be less than x_not\n",
    "def approx_div(a, b, x_not, epsilon):\n",
    "    if x_not <= 0 or b * x_not >= 2:\n",
    "        raise ValueError(\"x_not must be positive and less than 2 / b\")\n",
    "    if epsilon >= x_not:\n",
    "        raise ValueError(\"x_not must be greater than epsilon\")\n",
    "    ## approximate 1/b by approximating the root of b - 1/x\n",
    "    x = x_not\n",
    "    xn = x * (2 - (b * x))\n",
    "    while abs(x - xn) >= abs(epsilon):\n",
    "        x = xn\n",
    "        xn = x * (2 - (b * x))\n",
    "        \n",
    "    return xn * a\n",
    "    "
   ]
  },
  {
   "cell_type": "code",
   "execution_count": 23,
   "metadata": {},
   "outputs": [
    {
     "data": {
      "text/plain": [
       "0.5"
      ]
     },
     "execution_count": 23,
     "metadata": {},
     "output_type": "execute_result"
    }
   ],
   "source": [
    "approx_div(1.0, 2.0, 2.168404344971009e-18, 2.168404344971009e-19)"
   ]
  },
  {
   "cell_type": "code",
   "execution_count": 24,
   "metadata": {},
   "outputs": [],
   "source": [
    "def newton(f, df, x_not, err, iter_max):\n",
    "    i = 1\n",
    "    x = 0\n",
    "    while abs(x_not - x) > err and i < iter_max:\n",
    "        denom = df(x_not)\n",
    "        if denom == 0:\n",
    "            return (0, False, 'denom was 0 😭')\n",
    "        \n",
    "        x = x_not - approx_div(f(x_not), denom, 2.168404344971009e-18, 2.168404344971009e-19)\n",
    "    \n",
    "        i += 1\n",
    "        x_not = x\n",
    "        \n",
    "    if i >= iter_max:\n",
    "        return (0, False, 'exceeded max iterations 😭')\n",
    "    else:\n",
    "        return (x, True, '')\n",
    "    \n",
    "    "
   ]
  },
  {
   "cell_type": "code",
   "execution_count": 32,
   "metadata": {},
   "outputs": [
    {
     "data": {
      "text/plain": [
       "(-1.0, True, '')"
      ]
     },
     "execution_count": 32,
     "metadata": {},
     "output_type": "execute_result"
    }
   ],
   "source": [
    "f = lambda x: (x**5) - (x**4) + 2\n",
    "df = lambda x: 5*(x**4) - 4*(x**3)\n",
    "newton(f, df, -1.0, 0.0000000001, 1000)"
   ]
  },
  {
   "cell_type": "code",
   "execution_count": null,
   "metadata": {},
   "outputs": [],
   "source": []
  }
 ],
 "metadata": {
  "kernelspec": {
   "display_name": "Python 3",
   "language": "python",
   "name": "python3"
  },
  "language_info": {
   "codemirror_mode": {
    "name": "ipython",
    "version": 3
   },
   "file_extension": ".py",
   "mimetype": "text/x-python",
   "name": "python",
   "nbconvert_exporter": "python",
   "pygments_lexer": "ipython3",
   "version": "3.6.3"
  }
 },
 "nbformat": 4,
 "nbformat_minor": 2
}

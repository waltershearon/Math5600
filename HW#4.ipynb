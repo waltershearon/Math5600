{
 "cells": [
  {
   "cell_type": "markdown",
   "metadata": {},
   "source": [
    "# 1. Derivation of Least Squares Solution using Calculus\n",
    "\n",
    "## (a) Using the fact that $\\left\\lVert x \\right\\rVert^2_2 = \\langle x,x \\rangle_2 = x^Tx$ show that\n",
    "\n",
    "$$\n",
    "\\left\\lVert Ax - b \\right\\rVert^2_2 = x^TA^TAx - 2x^TA^Tb + b^Tb\n",
    "$$\n",
    "\n",
    "Using the definition above:\n",
    "\n",
    "$$\\left\\lVert Ax - b \\right\\rVert^2_2 = (Ax - b)^T (Ax - b)$$\n",
    "\n",
    "A matrix transpose is distributive under subtraction:\n",
    "\n",
    "$$(Ax - b)^T (Ax - b) = (Ax^T - b^T)(Ax - b)$$\n",
    "\n",
    "By distributivity of matrix multiplcation:\n",
    "\n",
    "$$((Ax)^T - b^T)(Ax - b) = (Ax)^TAx - (Ax)^Tb - b^TAx + b^Tb$$\n",
    "\n",
    "Because $Ax$ and $b$ are vectors, $(Ax)^Tb$ and $b^TAx$ are both dot products of the same two vectors, and therefore equal:\n",
    "\n",
    "$$Ax)^TAx - (Ax)^Tb - b^TAx + b^Tb =  x^TA^TAx - 2x^TA^Tb + b^Tb$$\n",
    "\n",
    "## (b) Calculate $\\nabla F(x)$ and solve for $x$ to show that the least squares solution is given by:\n",
    "\n",
    "$$\n",
    "x = (A^TA)^{-1}A^Tb\n",
    "$$\n",
    "\n",
    "Working backwards through the terms in $ x^TA^TAx - 2x^TA^Tb + b^Tb$:\n",
    "\n",
    "$b^Tb$ will dissappear in the gradient function because it does not depend on $x$. Therefore:\n",
    "\n",
    "$$\n",
    "grad[b^Tb] = 0\n",
    "$$ \n",
    "\n",
    "By the gradient product rule:\n",
    "\n",
    "$$\n",
    "grad[-2x^TA^Tb] = -2A^Tb\n",
    "$$\n",
    "\n",
    "Again by the gradient product rule:\n",
    "\n",
    "$$\n",
    "grad[x^TA^TAx] = grad[x^TA^T]Ax + x^TA^Tgrad[Ax]\n",
    "$$\n",
    "\n",
    "$$\n",
    "= A^TAx + x^TA^TA\n",
    "$$\n",
    "\n",
    "A matrix multiplied by it's transpose is a symmetric matrix. For a symmetric matrix $M$, $Mx = x^TM$. Therefore $(A^TA)x = x^T(A^TA)$ and the final result is:\n",
    "\n",
    "$$\n",
    "= 2A^TAx\n",
    "$$\n",
    "\n",
    "So now we have:\n",
    "\n",
    "$$\n",
    "\\nabla F(x) = 2A^TAx - 2A^Tb\n",
    "$$\n",
    "\n",
    "We're interested in where the gradient is equal to 0 and solving for $x$:\n",
    "\n",
    "$$\n",
    "0 =  2A^TAx - 2A^Tb\n",
    "$$\n",
    "\n",
    "$$\n",
    "2A^Tb =  2A^TAx \n",
    "$$\n",
    "\n",
    "$$\n",
    "A^Tb =  A^TAx \n",
    "$$\n",
    "\n",
    "$$\n",
    "(A^TA)^{-1}A^Tb =  x\n",
    "$$"
   ]
  },
  {
   "cell_type": "markdown",
   "metadata": {},
   "source": [
    "# 2. Fitting a quadratic to data\n",
    "\n",
    "Data: (0,1), (1, 2), (2, 1/2), (3, 3)\n",
    "\n",
    "We want a matrix $A$ to contain 3 columns for each term in the polynomial evaluated at the $t$ and 4 columns for each $t$ value in the data set (0-3 inclusive).\n",
    "\n",
    "We want to find a vector $x$ representing the coefficients for the polynomial that best approximates $b$, the vector containing the $y$ values from the data set.\n",
    "\n",
    "$$\n",
    "A = \\begin{bmatrix}\n",
    "1& 0& 0 \\\\\n",
    "1& 1& 1 \\\\\n",
    "1& 2& 4 \\\\\n",
    "1& 3& 9\n",
    "\\end{bmatrix}\n",
    "$$\n",
    "\n",
    "$$\n",
    "y = \\begin{bmatrix}\n",
    "1 \\\\\n",
    "2 \\\\\n",
    "1/2 \\\\\n",
    "3 \\\\\n",
    "\\end{bmatrix}\n",
    "$$\n",
    "\n",
    "From problem 1, we can find x by plugging in $A$ and $b$ into \n",
    "\n",
    "$$\n",
    "(A^TA)^{-1}A^Tb =  x\n",
    "$$\n",
    "\n"
   ]
  },
  {
   "cell_type": "code",
   "execution_count": 31,
   "metadata": {},
   "outputs": [
    {
     "data": {
      "text/plain": [
       "array([ 1.325, -0.675,  0.375])"
      ]
     },
     "execution_count": 31,
     "metadata": {},
     "output_type": "execute_result"
    }
   ],
   "source": [
    "A = np.array([[1., 0., 0.], [1.,1.,1.], [1.,2.,4.], [1.,3.,9.]])\n",
    "A_t = A.transpose()\n",
    "b = np.array([1.,2.,.5,3.])\n",
    "\n",
    "np.linalg.inv(A_t @ A) @ A_t @ b"
   ]
  },
  {
   "cell_type": "code",
   "execution_count": 42,
   "metadata": {},
   "outputs": [
    {
     "data": {
      "text/plain": [
       "[<matplotlib.lines.Line2D at 0x7fd9c9747400>,\n",
       " <matplotlib.lines.Line2D at 0x7fd9c97475c0>]"
      ]
     },
     "execution_count": 42,
     "metadata": {},
     "output_type": "execute_result"
    },
    {
     "data": {
      "image/png": "[encoded data removed]",
      "text/plain": [
       "<Figure size 432x288 with 1 Axes>"
      ]
     },
     "metadata": {},
     "output_type": "display_data"
    }
   ],
   "source": [
    "import matplotlib.pyplot as plt\n",
    "\n",
    "f = lambda x: (1.325 - (0.675 * x) + (0.375 * x**2))\n",
    "interval = np.linspace(-1,5,1000)\n",
    "out = np.vectorize(f)(interval)\n",
    "\n",
    "t = np.array([0.,1.,2.,3.])\n",
    "\n",
    "plt.plot(interval, out, t, b, 'g^')"
   ]
  }
 ],
 "metadata": {
  "kernelspec": {
   "display_name": "Python 3",
   "language": "python",
   "name": "python3"
  },
  "language_info": {
   "codemirror_mode": {
    "name": "ipython",
    "version": 3
   },
   "file_extension": ".py",
   "mimetype": "text/x-python",
   "name": "python",
   "nbconvert_exporter": "python",
   "pygments_lexer": "ipython3",
   "version": "3.6.3"
  }
 },
 "nbformat": 4,
 "nbformat_minor": 2
}

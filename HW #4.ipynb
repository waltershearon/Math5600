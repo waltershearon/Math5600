{
 "cells": [
  {
   "cell_type": "markdown",
   "metadata": {},
   "source": [
    "### 3. Higher Order Taylor Expansions"
   ]
  },
  {
   "cell_type": "markdown",
   "metadata": {},
   "source": [
    "a)\n",
    "First note, like eulers method $y'(x)=f(x , y)$\n",
    "$$ $$\n",
    "Now,\n",
    "$$ y''(x) = \\frac{d}{dx} f(x,y(x)) $$\n",
    "using the chain rule\n",
    "$$ = \\frac{\\partial f}{\\partial x} \\frac{dx}{dx} + \\frac{\\partial f}{\\partial y} \\frac{dy}{dx}$$\n",
    "$$ $$\n",
    "$$ = \\frac{\\partial f}{\\partial x} + \\frac{\\partial f}{\\partial y} y'(x) $$\n",
    "$$ $$\n",
    "$$ = \\frac{\\partial f}{\\partial x} + \\frac{\\partial f}{\\partial y} f(x , y) $$\n",
    "$$ $$\n",
    "Now, similar to eulers method, to constuct an iteration let\n",
    "$$ (x-x_0) = h, \\,\\,\\,\\, x_0 = x_{i-1} , \\,\\,\\,\\, y_0 = y_{i-1}$$ \n",
    "Substitution now gives\n",
    "$$ y(x_i) = y_{i-1} + h f(x_{i-1} , y_{i-1}) + \\frac{h^2}{2} \n",
    "\\Big(\\frac{\\partial f}{\\partial x}(x_{i-1} , y_{i-1}) + \\frac{\\partial f}{\\partial y}(x_{i-1} , y_{i-1}) f(x_{i-1} , y_{i-1})\\Big)$$\n",
    "As desired\n",
    "$$ $$\n"
   ]
  },
  {
   "cell_type": "markdown",
   "metadata": {},
   "source": [
    "b/c"
   ]
  },
  {
   "cell_type": "code",
   "execution_count": 5,
   "metadata": {},
   "outputs": [
    {
     "name": "stdout",
     "output_type": "stream",
     "text": [
      "1.105\n",
      "2.5937424601\n"
     ]
    }
   ],
   "source": [
    "import math\n",
    "def T2_approx(x_0,y_0,x_n,f,f_x,f_y,step):\n",
    "    h= (x_n - x_0)/float(step)\n",
    "    x = x_0\n",
    "    y = y_0\n",
    "    \n",
    "    for i in range(step):\n",
    "        y += h*(f(x,y)) + ((h**2)/2)*((f_x(x,y)+f_y(x,y)*f(x,y)))\n",
    "        x += h\n",
    "        \n",
    "        return y\n",
    "\n",
    "f =  lambda x, y: y\n",
    "f_x =  lambda x, y: 0\n",
    "f_y=  lambda x, y: 1\n",
    "print(T2_approx(0, 1, 1,f,f_x,f_y, 10))\n",
    "\n",
    "def Euler(f, xa, xb, ya, n):\n",
    "    h = (xb - xa) / float(n)\n",
    "    x = xa\n",
    "    y = ya\n",
    "    \n",
    "    for i in range(n):\n",
    "        y += h * f(x, y)\n",
    "        x += h\n",
    "    return y\n",
    "print(Euler(lambda x, y: y, 0, 1, 1, 10))"
   ]
  },
  {
   "cell_type": "markdown",
   "metadata": {},
   "source": [
    "Can't figure out how to plot this."
   ]
  },
  {
   "cell_type": "markdown",
   "metadata": {},
   "source": [
    "### 4. Consistency, Stability, and Convergence of a Multistep Method"
   ]
  },
  {
   "cell_type": "markdown",
   "metadata": {},
   "source": [
    "a) Since $ \\frac{2h}{3} \\neq0$ the method is implicit\n",
    "$$  $$\n",
    "b) (yes) for consistency its required \n",
    "$$\\sum_{j=0}^{p} a_j = 1$$\n",
    "and\n",
    "$$- \\sum_{j=0}^{p} j a_j + \\sum_{j=-1}^{p} b_j =1 $$\n",
    "\n",
    "the first condition is met since for very small h $\\frac{4}{3} y_i - \\frac{1}{3} y_{i-1} = 1 $\n",
    "$$  $$\n",
    "for the second condition since j=0 the $\\frac{4}{3} y_i$ term can be ignored so the equation becomes\n",
    "$$ -(-1)(\\frac{1}{3}) + \\frac{2}{3} = 1 $$\n",
    "which is obviously true so yes the method is consistent\n",
    "$$  $$\n",
    "c) since we have consistency\n",
    "$$ \\sum_{j=0}^{p} (-j)^k a_j + k \\sum_{j=-1}^{p} (-j)^{k-1} b_j =1 $$\n",
    "holds for k=1 so we have at least order 1, however if k=2\n",
    "$$ \\frac{1}{2} * (-1)^2 + 2 * \\frac{2}{3} \\neq 1 $$\n",
    "so we have order of convergence = 2\n",
    "$$ $$\n",
    "d) characterisitc polynomial is $$r^2-\\frac{4}{3} r + \\frac{1}{3} = 0$$\n",
    "which has solutions $r=\\frac{1}{3}, 1$ therefore the root condition $\\|r_j\\| \\leq 1$ is satisfied.\n",
    "$$ $$\n",
    "e) for $r=1$ we need $\\lambda h <1 $\n",
    "$$ $$\n",
    "for $r=\\frac{1}{3}$ we need $\\lambda  h <3$"
   ]
  }
 ],
 "metadata": {
  "kernelspec": {
   "display_name": "Python 3",
   "language": "python",
   "name": "python3"
  },
  "language_info": {
   "codemirror_mode": {
    "name": "ipython",
    "version": 3
   },
   "file_extension": ".py",
   "mimetype": "text/x-python",
   "name": "python",
   "nbconvert_exporter": "python",
   "pygments_lexer": "ipython3",
   "version": "3.6.3"
  }
 },
 "nbformat": 4,
 "nbformat_minor": 2
}

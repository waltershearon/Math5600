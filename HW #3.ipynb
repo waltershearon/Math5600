{
 "cells": [
  {
   "cell_type": "markdown",
   "metadata": {},
   "source": [
    "# Math 5600 Homework 3\n",
    "# Walter Shearon and Aaron Langford"
   ]
  },
  {
   "cell_type": "markdown",
   "metadata": {},
   "source": [
    "## Gaussian Elimination"
   ]
  },
  {
   "cell_type": "markdown",
   "metadata": {},
   "source": [
    "### 1. Pivoting vs. No Pivoting\n",
    "\n",
    "a. Using gaussian elimination, rounding to three decimal places each step.."
   ]
  },
  {
   "cell_type": "code",
   "execution_count": 89,
   "metadata": {},
   "outputs": [
    {
     "name": "stdout",
     "output_type": "stream",
     "text": [
      "initial matrix-  \n",
      " [[  0.143   0.357   2.01   -5.173]\n",
      " [ -1.31    0.911   1.99   -5.458]\n",
      " [ 11.2    -4.3    -0.605   4.415]]\n",
      "now we have 1's in left most column -  \n",
      " [[  1.      2.497  14.056 -36.175]\n",
      " [  1.     -0.695  -1.519   4.166]\n",
      " [  1.     -0.384  -0.054   0.394]]\n",
      "R2-R1 , R3-R1   \n",
      " [[  1.      2.497  14.056 -36.175]\n",
      " [  0.     -3.192 -15.575  40.341]\n",
      " [  0.     -2.881 -14.11   36.569]]\n",
      "continuing with 2nd column   \n",
      " [[  1.      2.497  14.056 -36.175]\n",
      " [ -0.      1.      4.879 -12.638]\n",
      " [ -0.      1.      4.898 -12.693]]\n",
      "... \n",
      "[[  1.      2.497  14.056 -36.175]\n",
      " [ -0.      1.      4.879 -12.638]\n",
      " [  0.      0.      1.     -2.895]] \n",
      " now we have all 1's on diagonal so we will start back substitution \n",
      " \n",
      "R2 + -.4879*R3   \n",
      "  R1 + -14.056*R3 [[ 1.     2.497  0.     4.517]\n",
      " [-0.     1.     0.     1.487]\n",
      " [ 0.     0.     1.    -2.895]]\n",
      "R1 + -2.497*R2   \n",
      " [[ 1.     0.     0.     0.804]\n",
      " [-0.     1.     0.     1.487]\n",
      " [ 0.     0.     1.    -2.895]]\n"
     ]
    }
   ],
   "source": [
    "import numpy as np\n",
    "\n",
    "j=[0.143,0.357,2.01,-5.173]\n",
    "k=[-1.31,.911,1.99,-5.458]\n",
    "l=[11.2,-4.3,-.605,4.415]\n",
    "print('initial matrix-  \\n ' + str(np.asmatrix([j,k,l])))\n",
    "j=[round((1/.143)*i,3) for i in j]\n",
    "k=[round((1/-1.31)*i,3) for i in k]\n",
    "l=[round((1/11.2)*i,3) for i in l]\n",
    "print(\"now we have 1's in left most column -  \\n \" + str(np.asmatrix([j,k,l])))\n",
    "k=np.subtract(k,j)\n",
    "l=np.subtract(l,j)\n",
    "print(\"R2-R1 , R3-R1   \\n \" + str(np.asmatrix([j,k,l])))\n",
    "k=[round((1/-3.192)*i,3) for i in k]\n",
    "l=[round((1/-2.881)*i,3) for i in l]\n",
    "\n",
    "print(\"continuing with 2nd column   \\n \" + str(np.asmatrix([j,k,l])))\n",
    "l=np.subtract(l,k)\n",
    "l=[round((1/.019)*i,3) for i in l]\n",
    "print( \"... \\n\" + str(np.asmatrix([j,k,l])) + \" \\n now we have all 1's on diagonal so we will start back substitution \\n \")\n",
    "\n",
    "l_alpha=[round((-4.879)*i,3) for i in l]\n",
    "k=np.add(k,l_alpha)\n",
    "l_beta=[round((-14.056)*i,3) for i in l]\n",
    "j=np.add(j,l_beta)\n",
    "print(\"R2 + -.4879*R3   \\n  R1 + -14.056*R3 \" + str(np.asmatrix([j,k,l])))\n",
    "k_alpha=[round((-2.497)*i,3) for i in k]\n",
    "j=np.add(j,k_alpha)\n",
    "print(\"R1 + -2.497*R2   \\n \" + str(np.asmatrix([j,k,l])))"
   ]
  },
  {
   "cell_type": "markdown",
   "metadata": {},
   "source": [
    "This gives solution [0.804, 1.487, -2.895] which is different from the actual solution..\n",
    "$$  $$\n",
    "b. using pivoting"
   ]
  },
  {
   "cell_type": "code",
   "execution_count": 102,
   "metadata": {},
   "outputs": [
    {
     "name": "stdout",
     "output_type": "stream",
     "text": [
      "initial matrix-  \n",
      " [[  0.143   0.357   2.01   -5.173]\n",
      " [ -1.31    0.911   1.99   -5.458]\n",
      " [ 11.2    -4.3    -0.605   4.415]]\n",
      " we need to swap the pivot row (R3) with R1  \n",
      " \n",
      " ... \n",
      " [[ 11.2    -4.3    -0.605   4.415]\n",
      " [ -1.31    0.911   1.99   -5.458]\n",
      " [  0.143   0.357   2.01   -5.173]]\n",
      " \n",
      " getting 1's in left most column -  \n",
      " [[  1.     -0.384  -0.054   0.394]\n",
      " [  1.     -0.695  -1.519   4.166]\n",
      " [  1.      2.497  14.056 -36.175]]\n",
      "subtracting first row form second and third-   \n",
      " [[  1.     -0.384  -0.054   0.394]\n",
      " [  0.     -0.311  -1.465   3.772]\n",
      " [  0.      2.881  14.11  -36.569]]\n",
      " before continuing with 2nd column, need to swap R2 and R3 \n",
      " \n",
      "...   \n",
      " [[  1.     -0.384  -0.054   0.394]\n",
      " [  0.      2.881  14.11  -36.569]\n",
      " [  0.     -0.311  -1.465   3.772]]\n",
      "continuing with 2nd column  \n",
      " [[  1.     -0.384  -0.054   0.394]\n",
      " [  0.      1.      4.898 -12.693]\n",
      " [ -0.      1.      4.711 -12.129]]\n",
      "... \n",
      "[[  1.     -0.384  -0.054   0.394]\n",
      " [  0.      1.      4.898 -12.693]\n",
      " [  0.     -0.      1.     -3.016]] \n",
      " now we have all 1's on diagonal so we will start back substitution \n",
      " \n",
      "R2 + -4.898*R3   \n",
      "  R1 + .054*R3 \n",
      "[[ 1.    -0.384  0.     0.231]\n",
      " [ 0.     1.     0.     2.079]\n",
      " [ 0.    -0.     1.    -3.016]]\n",
      "R1 + 0.384*R2   \n",
      " [[ 1.     0.     0.     1.029]\n",
      " [ 0.     1.     0.     2.079]\n",
      " [ 0.    -0.     1.    -3.016]]\n"
     ]
    }
   ],
   "source": [
    "import numpy as np\n",
    "\n",
    "j=[0.143,0.357,2.01,-5.173]\n",
    "k=[-1.31,.911,1.99,-5.458]\n",
    "l=[11.2,-4.3,-.605,4.415]\n",
    "\n",
    "print('initial matrix-  \\n ' + str(np.asmatrix([j,k,l])) + \n",
    "      '\\n we need to swap the pivot row (R3) with R1  \\n ')\n",
    "\n",
    "l=[0.143,0.357,2.01,-5.173]\n",
    "k=[-1.31,.911,1.99,-5.458]\n",
    "j=[11.2,-4.3,-.605,4.415]\n",
    "\n",
    "print(\" ... \\n \" + str(np.asmatrix([j,k,l])))\n",
    "\n",
    "j=[round((1/11.2)*i,3) for i in j]\n",
    "k=[round((1/-1.31)*i,3) for i in k]\n",
    "l=[round((1/.143)*i,3) for i in l]\n",
    "\n",
    "print(\" \\n getting 1's in left most column -  \\n \" + str(np.asmatrix([j,k,l])))\n",
    "k=np.subtract(k,j)\n",
    "l=np.subtract(l,j)\n",
    "print(\"subtracting first row form second and third-   \\n \" + str(np.asmatrix([j,k,l])) +\n",
    "      \"\\n before continuing with 2nd column, need to swap R2 and R3 \\n \")\n",
    "\n",
    "a=k\n",
    "b=l\n",
    "l=a\n",
    "k=b\n",
    "\n",
    "print(\"...   \\n \" + str(np.asmatrix([j,k,l])))\n",
    "\n",
    "k=[round((1/2.881)*i,3) for i in k]\n",
    "l=[round((1/-0.311)*i,3) for i in l]\n",
    "\n",
    "print(\"continuing with 2nd column  \\n \" + str(np.asmatrix([j,k,l])))\n",
    "l=np.subtract(l,k)\n",
    "l=[round((1/-0.187)*i,3) for i in l]\n",
    "print( \"... \\n\" + str(np.asmatrix([j,k,l])) + \" \\n now we have all 1's on diagonal so we will start back substitution \\n \")\n",
    "\n",
    "l_alpha=[round((-4.898)*i,3) for i in l]\n",
    "k=np.add(k,l_alpha)\n",
    "l_beta=[round((.054)*i,3) for i in l]\n",
    "j=np.add(j,l_beta)\n",
    "print(\"R2 + -4.898*R3   \\n  R1 + .054*R3 \\n\" + str(np.asmatrix([j,k,l])))\n",
    "k_alpha=[round((0.384)*i,3) for i in k]\n",
    "j=np.add(j,k_alpha)\n",
    "print(\"R1 + 0.384*R2   \\n \" + str(np.asmatrix([j,k,l])))"
   ]
  },
  {
   "cell_type": "markdown",
   "metadata": {},
   "source": [
    "Here we have a much better solution [1.029,2.079,-3.016], notice the multipliers in the back substitution were much smaller (the goal of pivoting) which causes less change in the augmented vector which in turn causes less error due to rounding."
   ]
  },
  {
   "cell_type": "markdown",
   "metadata": {},
   "source": [
    "## 2. Ill-Conditioned Systems\n",
    "\n",
    "Consider the linear system with\n",
    "\n",
    "$$\n",
    "Ax = b\n",
    "$$\n",
    "\n",
    "with\n",
    "\n",
    "$$\n",
    "A =\n",
    "\\begin{bmatrix}\n",
    "1& 1 \\\\\n",
    "1& 1.001\n",
    "\\end{bmatrix}\n",
    "$$\n",
    "\n",
    "and $b$ arbitrary. Note that $A$ is very close to being non-invertible, a sure sign of ill-conditioned systems (small perturbations in $b$ can lead to large perturbations in the solution).\n",
    "\n",
    "### (a) Calculate the condition number of $A$ using the max norm for matrices.\n",
    "\n",
    "Max norm is just a the max row sum of $A$.\n",
    "\n",
    "The condition number is less than or equal to $||A||*||A^{-1}||$\n",
    "\n",
    "Which is:\n",
    "\n",
    "$2.001 * 2001 = 4002.001$\n",
    "\n",
    "### (b)\n",
    "\n",
    "Intuition:\n",
    "\n",
    "The solution to y represents the case where we perturb b by a small amount. Because this system is relatively ill-conditioned, then the difference between x and y should be much larger than the magnitude of the perturbance.\n",
    "\n",
    "Demostration:\n",
    "\n",
    "Let $b = \\begin{bmatrix}1 \\\\ 0 \\end{bmatrix}$ and $\\epsilon = \\begin{bmatrix}0.01 \\\\ -0.01 \\end{bmatrix}$\n",
    "\n",
    "\n",
    "Then $x = A^{-1} * b = \\begin{bmatrix}1001 \\\\ -1000 \\end{bmatrix}$\n",
    "\n",
    "and $y = A^{-1} * (b + \\epsilon) = \\begin{bmatrix}1021.01 \\\\ -1020 \\end{bmatrix}$\n",
    "\n",
    "now $||y-x||_{\\infty} = 20.01$ and $||\\epsilon||_{\\infty} = .01$. Clearly this is a large difference, and supports the behavior expected by my intuition.\n"
   ]
  },
  {
   "cell_type": "markdown",
   "metadata": {},
   "source": [
    "# Iterative Methods for Linear Systems\n",
    "## 3. Approximating Solutions to Integral Equations\n",
    "### a."
   ]
  },
  {
   "cell_type": "markdown",
   "metadata": {},
   "source": [
    "Given $\\lambda f(x) - \\int_{0}^{1} cos(\\pi x y) f(y) dy = 1$ we have for some fixed $x_i$, $$\\lambda f(x_i) - \\int_{0}^{1} cos(\\pi x_i y) f(y) dy = 1$$ where $x_i = (i-\\frac{1}{2})h$ for $i=0,1,...,n$\n",
    "$$  $$\n",
    "\n",
    "Now applying the midpoint approximation in terms of y we have\n",
    "\n",
    "$$\\lambda f(x_i) - \\sum_{j=1}^{n} h cos(\\pi x_i y_j) f(y_j) = 1$$\n",
    "\n",
    "where each $y_j$ is the midpoint of each subinterval for $j=0,1,...,n$. But since this is exactly the same thing and $x_j$ we have that \n",
    "\n",
    "$$\\lambda f(x_i) - \\sum_{j=1}^{n} h cos(\\pi x_i x_j) f(x_j) = 1$$\n",
    "\n",
    "We can list these for all $ x_i $ for  $i=0,1...,n$ to get\n",
    "\n",
    "$$\\lambda f(x_1) - \\sum_{j=1}^{n} h cos(\\pi x_1 x_j) f(x_j) = 1$$\n",
    "$$\\lambda f(x_2) - \\sum_{j=1}^{n} h cos(\\pi x_2 x_j) f(x_j) = 1$$\n",
    "$$ ... $$\n",
    "$$\\lambda f(x_n) - \\sum_{j=1}^{n} h cos(\\pi x_n x_j) f(x_j) = 1$$\n",
    "$$  $$\n",
    "which gives\n",
    "$$  $$\n",
    "$$ \\lambda I f(x_1)  - h f(x_1)(cos(\\pi x_1 x_1) + h f(x_2)cos(\\pi x_1 x_2) + ... + h f(x_n) cos(\\pi x_1 x_n)= 1$$\n",
    "$$ \\lambda I f(x_2)  - h f(x_1)(cos(\\pi x_2 x_1) + h f(x_2)cos(\\pi x_2 x_2) + ... + h f(x_n) cos(\\pi x_2 x_n)= 1$$\n",
    "...\n",
    "$$ \\lambda I f(x_i)  - h f(x_1)(cos(\\pi x_i x_1) + h f(x_2)cos(\\pi x_i x_2) + ... + h f(x_n) cos(\\pi x_i x_n)= 1$$\n",
    "\n",
    "Now it follows that\n",
    "$$ ( \\lambda I - K_n )\\textbf{f} = \\textbf{b} $$\n",
    "as desired..\n",
    "\n",
    "### b.    \n",
    "If $ det( \\lambda I - K_n ) = 0$ then we will not have a unique solution\n",
    "### c. \n",
    "Writing a function that takes arguments of n and $\\lambda$ and creates $( \\lambda I - K_n )$"
   ]
  },
  {
   "cell_type": "code",
   "execution_count": 12,
   "metadata": {},
   "outputs": [],
   "source": [
    "import numpy as np\n",
    "from math import cos,pi\n",
    "def matrix(n,lam):\n",
    "\n",
    "    # first need YI\n",
    "    size = np.linspace(0,1,n)\n",
    "\n",
    "    identity = np.identity(n)\n",
    "\n",
    "    lami = lam*identity\n",
    "    #need Kn\n",
    "    \n",
    "    h=1/n\n",
    "    \n",
    "    blank=np.zeros((n,n))\n",
    "    \n",
    "    for x in range(n):\n",
    "        blank[x]=[h*cos(pi*list(size)[x]*j) for j in list(size)]\n",
    "    \n",
    "    Kn = blank\n",
    "    \n",
    "    return(lami-Kn)"
   ]
  },
  {
   "cell_type": "markdown",
   "metadata": {},
   "source": [
    "Next I'm writing a function that decomposes $( \\lambda I - K_n )$ into its diagonal $D$ and remainder $R$ such that $( \\lambda I - K_n ) = D+R$ and then returns the spectral radius (max eigenvalue) of $D^{-1} R$ "
   ]
  },
  {
   "cell_type": "code",
   "execution_count": 13,
   "metadata": {
    "collapsed": true
   },
   "outputs": [],
   "source": [
    "def test(n, lam):\n",
    "    \n",
    "    k=matrix(n,lam)\n",
    "\n",
    "    d=k.diagonal()\n",
    "    \n",
    "    b=(d.tolist())\n",
    "    \n",
    "    D=np.zeros((n,n))\n",
    "\n",
    "    for i in range(len(D)):\n",
    "        D[i][i]=b[i]\n",
    "    \n",
    "    r=np.subtract(k,D)\n",
    "    \n",
    "    D_inv=np.linalg.inv(D)\n",
    "    \n",
    "    product=np.matmul(D_inv,r)\n",
    "    z,x=(np.linalg.eig(product))\n",
    "    return(max(abs(z)))\n",
    "def check(lam):\n",
    "    n1=10\n",
    "    n2=100\n",
    "    print(test(n1, lam),test(n2, lam))\n",
    "\n"
   ]
  },
  {
   "cell_type": "code",
   "execution_count": 14,
   "metadata": {},
   "outputs": [
    {
     "ename": "LinAlgError",
     "evalue": "Singular matrix",
     "output_type": "error",
     "traceback": [
      "\u001b[0;31m---------------------------------------------------------------------------\u001b[0m",
      "\u001b[0;31mLinAlgError\u001b[0m                               Traceback (most recent call last)",
      "\u001b[0;32m<ipython-input-14-b82c039055a4>\u001b[0m in \u001b[0;36m<module>\u001b[0;34m()\u001b[0m\n\u001b[0;32m----> 1\u001b[0;31m \u001b[0mprint\u001b[0m\u001b[0;34m(\u001b[0m\u001b[0mcheck\u001b[0m\u001b[0;34m(\u001b[0m\u001b[0;36m.1\u001b[0m\u001b[0;34m)\u001b[0m\u001b[0;34m)\u001b[0m\u001b[0;34m\u001b[0m\u001b[0m\n\u001b[0m",
      "\u001b[0;32m<ipython-input-13-412176a62278>\u001b[0m in \u001b[0;36mcheck\u001b[0;34m(lam)\u001b[0m\n\u001b[1;32m     22\u001b[0m     \u001b[0mn1\u001b[0m\u001b[0;34m=\u001b[0m\u001b[0;36m10\u001b[0m\u001b[0;34m\u001b[0m\u001b[0m\n\u001b[1;32m     23\u001b[0m     \u001b[0mn2\u001b[0m\u001b[0;34m=\u001b[0m\u001b[0;36m100\u001b[0m\u001b[0;34m\u001b[0m\u001b[0m\n\u001b[0;32m---> 24\u001b[0;31m     \u001b[0mprint\u001b[0m\u001b[0;34m(\u001b[0m\u001b[0mtest\u001b[0m\u001b[0;34m(\u001b[0m\u001b[0mn1\u001b[0m\u001b[0;34m,\u001b[0m \u001b[0mlam\u001b[0m\u001b[0;34m)\u001b[0m\u001b[0;34m,\u001b[0m\u001b[0mtest\u001b[0m\u001b[0;34m(\u001b[0m\u001b[0mn2\u001b[0m\u001b[0;34m,\u001b[0m \u001b[0mlam\u001b[0m\u001b[0;34m)\u001b[0m\u001b[0;34m)\u001b[0m\u001b[0;34m\u001b[0m\u001b[0m\n\u001b[0m\u001b[1;32m     25\u001b[0m \u001b[0;34m\u001b[0m\u001b[0m\n",
      "\u001b[0;32m<ipython-input-13-412176a62278>\u001b[0m in \u001b[0;36mtest\u001b[0;34m(n, lam)\u001b[0m\n\u001b[1;32m     14\u001b[0m     \u001b[0mr\u001b[0m\u001b[0;34m=\u001b[0m\u001b[0mnp\u001b[0m\u001b[0;34m.\u001b[0m\u001b[0msubtract\u001b[0m\u001b[0;34m(\u001b[0m\u001b[0mk\u001b[0m\u001b[0;34m,\u001b[0m\u001b[0mD\u001b[0m\u001b[0;34m)\u001b[0m\u001b[0;34m\u001b[0m\u001b[0m\n\u001b[1;32m     15\u001b[0m \u001b[0;34m\u001b[0m\u001b[0m\n\u001b[0;32m---> 16\u001b[0;31m     \u001b[0mD_inv\u001b[0m\u001b[0;34m=\u001b[0m\u001b[0mnp\u001b[0m\u001b[0;34m.\u001b[0m\u001b[0mlinalg\u001b[0m\u001b[0;34m.\u001b[0m\u001b[0minv\u001b[0m\u001b[0;34m(\u001b[0m\u001b[0mD\u001b[0m\u001b[0;34m)\u001b[0m\u001b[0;34m\u001b[0m\u001b[0m\n\u001b[0m\u001b[1;32m     17\u001b[0m \u001b[0;34m\u001b[0m\u001b[0m\n\u001b[1;32m     18\u001b[0m     \u001b[0mproduct\u001b[0m\u001b[0;34m=\u001b[0m\u001b[0mnp\u001b[0m\u001b[0;34m.\u001b[0m\u001b[0mmatmul\u001b[0m\u001b[0;34m(\u001b[0m\u001b[0mD_inv\u001b[0m\u001b[0;34m,\u001b[0m\u001b[0mr\u001b[0m\u001b[0;34m)\u001b[0m\u001b[0;34m\u001b[0m\u001b[0m\n",
      "\u001b[0;32m/anaconda3/lib/python3.6/site-packages/numpy/linalg/linalg.py\u001b[0m in \u001b[0;36minv\u001b[0;34m(a)\u001b[0m\n\u001b[1;32m    511\u001b[0m     \u001b[0msignature\u001b[0m \u001b[0;34m=\u001b[0m \u001b[0;34m'D->D'\u001b[0m \u001b[0;32mif\u001b[0m \u001b[0misComplexType\u001b[0m\u001b[0;34m(\u001b[0m\u001b[0mt\u001b[0m\u001b[0;34m)\u001b[0m \u001b[0;32melse\u001b[0m \u001b[0;34m'd->d'\u001b[0m\u001b[0;34m\u001b[0m\u001b[0m\n\u001b[1;32m    512\u001b[0m     \u001b[0mextobj\u001b[0m \u001b[0;34m=\u001b[0m \u001b[0mget_linalg_error_extobj\u001b[0m\u001b[0;34m(\u001b[0m\u001b[0m_raise_linalgerror_singular\u001b[0m\u001b[0;34m)\u001b[0m\u001b[0;34m\u001b[0m\u001b[0m\n\u001b[0;32m--> 513\u001b[0;31m     \u001b[0mainv\u001b[0m \u001b[0;34m=\u001b[0m \u001b[0m_umath_linalg\u001b[0m\u001b[0;34m.\u001b[0m\u001b[0minv\u001b[0m\u001b[0;34m(\u001b[0m\u001b[0ma\u001b[0m\u001b[0;34m,\u001b[0m \u001b[0msignature\u001b[0m\u001b[0;34m=\u001b[0m\u001b[0msignature\u001b[0m\u001b[0;34m,\u001b[0m \u001b[0mextobj\u001b[0m\u001b[0;34m=\u001b[0m\u001b[0mextobj\u001b[0m\u001b[0;34m)\u001b[0m\u001b[0;34m\u001b[0m\u001b[0m\n\u001b[0m\u001b[1;32m    514\u001b[0m     \u001b[0;32mreturn\u001b[0m \u001b[0mwrap\u001b[0m\u001b[0;34m(\u001b[0m\u001b[0mainv\u001b[0m\u001b[0;34m.\u001b[0m\u001b[0mastype\u001b[0m\u001b[0;34m(\u001b[0m\u001b[0mresult_t\u001b[0m\u001b[0;34m,\u001b[0m \u001b[0mcopy\u001b[0m\u001b[0;34m=\u001b[0m\u001b[0;32mFalse\u001b[0m\u001b[0;34m)\u001b[0m\u001b[0;34m)\u001b[0m\u001b[0;34m\u001b[0m\u001b[0m\n\u001b[1;32m    515\u001b[0m \u001b[0;34m\u001b[0m\u001b[0m\n",
      "\u001b[0;32m/anaconda3/lib/python3.6/site-packages/numpy/linalg/linalg.py\u001b[0m in \u001b[0;36m_raise_linalgerror_singular\u001b[0;34m(err, flag)\u001b[0m\n\u001b[1;32m     88\u001b[0m \u001b[0;34m\u001b[0m\u001b[0m\n\u001b[1;32m     89\u001b[0m \u001b[0;32mdef\u001b[0m \u001b[0m_raise_linalgerror_singular\u001b[0m\u001b[0;34m(\u001b[0m\u001b[0merr\u001b[0m\u001b[0;34m,\u001b[0m \u001b[0mflag\u001b[0m\u001b[0;34m)\u001b[0m\u001b[0;34m:\u001b[0m\u001b[0;34m\u001b[0m\u001b[0m\n\u001b[0;32m---> 90\u001b[0;31m     \u001b[0;32mraise\u001b[0m \u001b[0mLinAlgError\u001b[0m\u001b[0;34m(\u001b[0m\u001b[0;34m\"Singular matrix\"\u001b[0m\u001b[0;34m)\u001b[0m\u001b[0;34m\u001b[0m\u001b[0m\n\u001b[0m\u001b[1;32m     91\u001b[0m \u001b[0;34m\u001b[0m\u001b[0m\n\u001b[1;32m     92\u001b[0m \u001b[0;32mdef\u001b[0m \u001b[0m_raise_linalgerror_nonposdef\u001b[0m\u001b[0;34m(\u001b[0m\u001b[0merr\u001b[0m\u001b[0;34m,\u001b[0m \u001b[0mflag\u001b[0m\u001b[0;34m)\u001b[0m\u001b[0;34m:\u001b[0m\u001b[0;34m\u001b[0m\u001b[0m\n",
      "\u001b[0;31mLinAlgError\u001b[0m: Singular matrix"
     ]
    }
   ],
   "source": [
    "print(check(.1))"
   ]
  },
  {
   "cell_type": "code",
   "execution_count": 15,
   "metadata": {},
   "outputs": [
    {
     "name": "stdout",
     "output_type": "stream",
     "text": [
      "1.46640874159 1.40636556478\n",
      "None\n",
      "0.672878542311 0.697840846572\n",
      "None\n",
      "0.0628265796698 0.0693117513212\n",
      "None\n"
     ]
    }
   ],
   "source": [
    "print(check(.5))\n",
    "print(check(1))\n",
    "print(check(10))"
   ]
  },
  {
   "cell_type": "markdown",
   "metadata": {},
   "source": [
    "It was very time consuming to use n=1000 so i didn't print it but did check it on my own. I got that the matrix was non-singular for $\\lambda = .1$ and thus there is no unique solution. For $\\lambda = .5$ I got that the spectral radius was greater than 1 thus there is no convergence. For $\\lambda = 1$ and $\\lambda = 10$ I found that Gauss Jacobi would converge.\n"
   ]
  },
  {
   "cell_type": "markdown",
   "metadata": {},
   "source": [
    "### d.\n",
    "Need to construct $A=( \\lambda I - K_n )$, using some of the code in part c., then solve the system Ax=b. Using $\\lambda = 1 ,\\,n=1000$"
   ]
  },
  {
   "cell_type": "code",
   "execution_count": 16,
   "metadata": {
    "collapsed": true
   },
   "outputs": [],
   "source": [
    "A=matrix(1000,1)\n",
    "#contructing A using functions form earlier\n"
   ]
  },
  {
   "cell_type": "code",
   "execution_count": 19,
   "metadata": {
    "collapsed": true
   },
   "outputs": [],
   "source": [
    "b=(np.ones(1000)).T\n",
    "f=np.linalg.solve(A,b)\n",
    "f=f.tolist()\n",
    "#using numpy to solve the system"
   ]
  },
  {
   "cell_type": "code",
   "execution_count": 20,
   "metadata": {},
   "outputs": [
    {
     "data": {
      "image/png": "[encoded data removed]",
      "text/plain": [
       "<matplotlib.figure.Figure at 0x116f91fd0>"
      ]
     },
     "metadata": {},
     "output_type": "display_data"
    }
   ],
   "source": [
    "import matplotlib.pyplot as plt\n",
    "import numpy as np\n",
    "x = np.linspace(0,1,1000)\n",
    "plt.plot(x,f)\n",
    "plt.show()\n",
    "#plotting"
   ]
  },
  {
   "cell_type": "markdown",
   "metadata": {},
   "source": [
    "## 4. From Divergence to Convergence for Iterative Methods\n",
    "\n",
    "Consider the system\n",
    "\n",
    "$$\n",
    "Ax = b\n",
    "$$\n",
    "\n",
    "with\n",
    "\n",
    "$$\n",
    "A = \\begin{bmatrix} \n",
    "5& 1& 0 \\\\\n",
    "10& -1& 1 \\\\\n",
    "-15& -4& 4\n",
    "\\end{bmatrix}\n",
    ", b = \\begin{bmatrix}2 \\\\ -3 \\\\ 5 \\end{bmatrix}\n",
    "$$\n",
    "\n",
    "### (a) Show that Gauss-Jacobi will diverge.\n",
    "\n",
    "Gauss-Jacobi will diverge if the spectral radius of M (the method for producing matrix M from matrix A is defined in the text) is greater than 1.\n",
    "\n",
    "The following code will demonstrate that M's spectral radius is greater than 1, and also demonstrate the divergence of Guasse-Jacobi."
   ]
  },
  {
   "cell_type": "code",
   "execution_count": 37,
   "metadata": {
    "collapsed": true
   },
   "outputs": [],
   "source": [
    "import numpy as np\n",
    "\n",
    "def gauss_jacobi_step(A, b, x):\n",
    "    x_next = np.copy(x)\n",
    "    for r in range(0, A.shape[0]):\n",
    "        row = A[r]\n",
    "        a_ii = row[r]\n",
    "        b_i = b[r]\n",
    "        x_i = x[r]\n",
    "        \n",
    "        x_next[r] = (b_i - (np.dot(row, x) - (a_ii * x_i))) / a_ii\n",
    "    return x_next\n",
    "\n",
    "def div_rows_by_diag(A):\n",
    "    A_new = np.copy(A)\n",
    "    for r in range(0, A.shape[0]):\n",
    "        row = A[r]\n",
    "        row = -1 * row / row[r]\n",
    "        row[r] = 0.\n",
    "        A_new[r] = row\n",
    "    return A_new\n",
    "    "
   ]
  },
  {
   "cell_type": "code",
   "execution_count": 40,
   "metadata": {},
   "outputs": [
    {
     "name": "stdout",
     "output_type": "stream",
     "text": [
      "Eigenvalues of M:\n",
      "[-0.56736423+0.j]\n",
      "Observe Gauss-Jacobi diverging\n",
      "0.0\n",
      "3.2745228660065884\n",
      "6.940641180755565\n",
      "3.5146123541579946\n",
      "9.268570884985452\n",
      "6.987991932594084\n",
      "9.2080637215432\n",
      "13.313427564516395\n",
      "7.165033501535425\n",
      "19.44137446312953\n"
     ]
    }
   ],
   "source": [
    "A = np.array([[5., 1., 0.],[10., -1., 1.],[-15., -4., 4.]])\n",
    "b = np.array([2., -3., 5.])\n",
    "M = div_rows_by_diag(A)\n",
    "\n",
    "print(\"Eigenvalues of M:\")\n",
    "eigvals = np.linalg.eigvals(M)\n",
    "real_eigvals = eigvals[eigvals.imag == 0.]\n",
    "print(real_eigvals)\n",
    "\n",
    "print(\"Observe Gauss-Jacobi diverging\")\n",
    "x = np.array([0., 0., 0.])\n",
    "x_last = x\n",
    "for i in range(0, 10):\n",
    "    print(np.linalg.norm(x - x_last))\n",
    "    x_last = x\n",
    "    x = gauss_jacobi_step(A, b, x)"
   ]
  },
  {
   "cell_type": "markdown",
   "metadata": {},
   "source": [
    "### (b) Use elementary row operations to convert the system to an equivalent system that is diagonally dominant\n",
    "\n",
    "$$\n",
    "Begin: \\begin{bmatrix} \n",
    "5& 1& 0 \\\\\n",
    "10& -1& 1 \\\\\n",
    "-15& -4& 4\n",
    "\\end{bmatrix}\n",
    "$$\n",
    "\n",
    "$$\n",
    "R2 = R2 - 2*R1 \\begin{bmatrix} \n",
    "5& 1& 0 \\\\\n",
    "0& -3& 1 \\\\\n",
    "-15& -4& 4\n",
    "\\end{bmatrix}\n",
    "$$\n",
    "\n",
    "$$\n",
    "R3 = R3 + 3*R1 \\begin{bmatrix} \n",
    "5& 1& 0 \\\\\n",
    "0& -3& 1 \\\\\n",
    "0& -1& 4\n",
    "\\end{bmatrix}\n",
    "$$\n",
    "\n",
    "$$\n",
    "\\bar{A} = \\begin{bmatrix} \n",
    "5& 1& 0 \\\\\n",
    "0& -3& 1 \\\\\n",
    "0& -1& 4\n",
    "\\end{bmatrix}\n",
    "$$\n",
    "\n",
    "We will show diagonal dominance by transforming $\\bar{A}$ into $\\bar{M}$, performing a row sum, and asserting that the final vector has no element > 1."
   ]
  },
  {
   "cell_type": "code",
   "execution_count": 41,
   "metadata": {},
   "outputs": [
    {
     "data": {
      "text/plain": [
       "array([-0.2       ,  0.33333333,  0.25      ])"
      ]
     },
     "execution_count": 41,
     "metadata": {},
     "output_type": "execute_result"
    }
   ],
   "source": [
    "A_bar = np.array([[5., 1., 0.],[0., -3., 1.],[0., -1., 4.]])\n",
    "b = np.array([2., -3., 5.])\n",
    "M_bar = div_rows_by_diag(A_bar)\n",
    "np.sum(M_bar, axis=1)\n"
   ]
  },
  {
   "cell_type": "markdown",
   "metadata": {},
   "source": [
    "### 5. Power Method for Smallest Eigenvalue\n",
    "\n",
    "First recall if A is non-singular and $ A x_i = \\lambda x_i $ for some eigenvalue $\\lambda$ then $ A^{-1} x_i = \\frac{1}{\\lambda} x_i $\n",
    "$$ $$\n",
    "If we first find the inverse of A then use the regular power method we will find the largest eigenvalue of A, say $\\hat{\\lambda}$, and the corresponding eigenvector, say $\\hat{v}$. Then the inverse of $\\hat{\\lambda}$ will be the smallest eigenvalue of the original matrix A since the inverse is exactly $1/\\hat{\\lambda}$. Note the cooresponding eigenvector remains unchanged. \n",
    "$$ $$\n",
    "In order to show this I'd copy the lecture notes exactly for the power method then just show that the inverse of the largest eigenvalue for $A^{-1}$ which was found must obviously be the minimum for A. This is because for any finite set of real numbers, $S = {a_1,...,a_n}$, if $\\max(S) = a_i$ and $ S^{-1} = {\\frac{1}{a_1},...,\\frac{1}{a_n^{-1}}} $ then $ \\min(S^{-1}) = \\frac{1}{a_i}$\n",
    "$$ $$"
   ]
  },
  {
   "cell_type": "markdown",
   "metadata": {},
   "source": [
    "## 6. Eigenvalues and Eigenfunctions of an Integral Operator\n",
    "\n",
    "* Each row of the matrix should correspond with each approximation of $v''(t_i)$\n",
    "* Each column of the matrix should correspond with each $v(t_i)$ component in the approximation of $v''(t_i)$\n",
    "* Vector $v$ is unknown (this will be an eigenvector)\n",
    "* $\\lambda$ is unknown (this will be the eigenvalues)\n",
    "* By construction, $v_0 = v(0) = v(1) = v_n(1) = 0$, so the last column of the matrix will represent both the 0th and the nth component.\n",
    "* There should be $n$ columns and $n$ rows\n",
    "* On the nth row, the $i+1$ component should be equal to the 1st component b/c $v$ is periodic\n",
    "\n",
    "$$\n",
    "A = \\begin{bmatrix}\n",
    "\\frac{-2}{h^2}& \\frac{1}{h^2}& 0& 0& ... & 0 \\\\\n",
    "\\frac{1}{h^2}& \\frac{-2}{h^2}& \\frac{1}{h^2}& 0& ... & 0 \\\\\n",
    "0& \\frac{1}{h^2}& \\frac{-2}{h^2}& \\frac{1}{h^2}& ... & 0 \\\\\n",
    "...& ...& ...& ...& ...& ...\n",
    "\\end{bmatrix}\n",
    "$$"
   ]
  },
  {
   "cell_type": "code",
   "execution_count": 53,
   "metadata": {
    "collapsed": true
   },
   "outputs": [],
   "source": [
    "import numpy as np\n",
    "\n",
    "def qr_method(A):\n",
    "    n_cols = A.shape[1]\n",
    "    Q = np.zeros((n_cols, n_cols))\n",
    "    \n",
    "    Q[:,0] = A[:,0]\n",
    "    \n",
    "    for k in range(0, n_cols - 1):\n",
    "        Q[:,k+1] = A[:,k+1]\n",
    "        \n",
    "        for i in range(0, k):\n",
    "            dot_quotient = np.dot(A[:,k+1], Q[:,i]) / np.dot(Q[:,i], Q[:,i])\n",
    "            Q[:,k+1] = Q[:,k+1] - dot_quotient * Q[:,i]\n",
    "            \n",
    "    for i in range(0, n_cols):\n",
    "        Q[:,i] = Q[:,i] / np.linalg.norm(Q[:,i])\n",
    "        \n",
    "        if Q[i, i] < 0:\n",
    "            Q[:,i] = -1 * Q[:,i]\n",
    "            \n",
    "    return Q\n",
    "\n",
    "def inverse_iter(A, b, l):\n",
    "    lI = np.zeros(A.shape)\n",
    "    np.fill_diagonal(lI, l)\n",
    "    \n",
    "    b = np.linalg.inv(A - lI) @ b\n",
    "    \n",
    "    return b / np.linalg.norm(b)\n",
    "\n",
    "def build_array(n):\n",
    "    A = np.zeros((n, n))\n",
    "    h = 1. / n\n",
    "    h_2 = np.full(n, 1. / h**2)\n",
    "    \n",
    "    np.fill_diagonal(A, -2. / h**2)\n",
    "    np.fill_diagonal(A[1:], h_2)\n",
    "    np.fill_diagonal(A[:,1:], h_2)\n",
    "    \n",
    "    A[n - 1, 0] = h_2[0]\n",
    "    return A\n",
    "    "
   ]
  },
  {
   "cell_type": "code",
   "execution_count": 55,
   "metadata": {},
   "outputs": [
    {
     "data": {
      "text/plain": [
       "array([-3.00750478e-01, -1.85874017e-01,  1.85874017e-01,  3.00750478e-01,\n",
       "       -1.15735543e-16, -3.00750478e-01, -1.85874017e-01,  1.85874017e-01,\n",
       "        3.00750478e-01, -1.52890147e-16, -3.00750478e-01, -1.85874017e-01,\n",
       "        1.85874017e-01,  3.00750478e-01, -1.85674635e-16, -3.00750478e-01,\n",
       "       -1.85874017e-01,  1.85874017e-01,  3.00750478e-01, -2.45621820e-16])"
      ]
     },
     "execution_count": 55,
     "metadata": {},
     "output_type": "execute_result"
    }
   ],
   "source": [
    "A = build_array(20)\n",
    "E = np.copy(A)\n",
    "for i in range(0, 10):\n",
    "    Q = qr_method(E)\n",
    "    Qt = Q.transpose()\n",
    "    E = Qt*E*Q\n",
    "\n",
    "eigenvalues = np.diagonal(E)\n",
    "last_4_eigvals = np.sort(eigenvalues)[-4:]\n",
    "\n",
    "b = np.ones(20)\n",
    "for i in range(0, 100):\n",
    "    b = inverse_iter(A, b, last_4_eigvals[0])\n",
    "    \n",
    "b\n",
    "\n",
    "b = np.ones(20)\n",
    "for i in range(0, 100):\n",
    "    b = inverse_iter(A, b, last_4_eigvals[1])\n",
    "    \n",
    "b\n",
    "\n",
    "b = np.ones(20)\n",
    "for i in range(0, 100):\n",
    "    b = inverse_iter(A, b, last_4_eigvals[2])\n",
    "    \n",
    "b\n",
    "\n",
    "b = np.ones(20)\n",
    "for i in range(0, 100):\n",
    "    b = inverse_iter(A, b, last_4_eigvals[1])\n",
    "    \n",
    "b\n"
   ]
  }
 ],
 "metadata": {
  "kernelspec": {
   "display_name": "Python 3",
   "language": "python",
   "name": "python3"
  },
  "language_info": {
   "codemirror_mode": {
    "name": "ipython",
    "version": 3
   },
   "file_extension": ".py",
   "mimetype": "text/x-python",
   "name": "python",
   "nbconvert_exporter": "python",
   "pygments_lexer": "ipython3",
   "version": "3.6.3"
  }
 },
 "nbformat": 4,
 "nbformat_minor": 2
}
